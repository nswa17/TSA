{
 "cells": [
  {
   "cell_type": "markdown",
   "metadata": {},
   "source": [
    "# 差分方程式, ラグ作用素"
   ]
  },
  {
   "cell_type": "markdown",
   "metadata": {},
   "source": [
    "## 1次差分方程式"
   ]
  },
  {
   "cell_type": "markdown",
   "metadata": {},
   "source": [
    "線形1次差分方程式\n",
    "$$\n",
    "y_t = \\phi y_{t-1} + w_t\n",
    "$$\n",
    "を考える. 1,2章では入力変数$\\{w_t\\}$は確定的な値を取る変数列とする."
   ]
  },
  {
   "cell_type": "markdown",
   "metadata": {},
   "source": [
    "動学乗数dynamic multiplier($w_t$のみが微小に変化した時$y_{t+j}$に与える影響)は\n",
    "$$\n",
    "\\frac{\\partial{y_{t+j}}}{\\partial{w_t}} = \\phi^j\n",
    "$$\n",
    "と書ける.(時刻tに依存せず,時間差jのみに依存する)"
   ]
  },
  {
   "cell_type": "markdown",
   "metadata": {},
   "source": [
    "$\\beta$を割引因子としたときの, 時点tにおける今後の実現値の流列の現在価値は,\n",
    "$$\n",
    "C = \\sum^\\infty_{j=0} \\beta^j y_{t+j}\n",
    "$$\n",
    "$w_t$だけ一単位増加した場合, yの現在価値への影響は$\\partial C/\\partial{w_t}$となる. \n",
    "\n",
    "これは$|\\beta\\phi| < 1$のもとで収束し,<!--展開すれば求まる?--> \n",
    "$$\n",
    "\\frac{\\partial C}{\\partial{w_t}} = \\sum^\\infty_{j = 0}\\beta^j \\phi^j = \\frac{1}{1-\\beta\\phi}\n",
    "$$\n",
    "となる."
   ]
  },
  {
   "cell_type": "markdown",
   "metadata": {},
   "source": [
    "$\\partial{y_{t+j}}/\\partial{w_t}$をインパルス応答関数ともいう."
   ]
  },
  {
   "cell_type": "markdown",
   "metadata": {},
   "source": [
    "時点t以降におけるwの恒久的な変化が$y_{t+j}$に与える影響は,\n",
    "$$\n",
    "\\frac{\\partial{y_{t+j}}}{\\partial{w_t}} + \\frac{\\partial{y_{t+j}}}{\\partial{w_{t+1}}} + \\cdots + \\frac{\\partial{y_{t+j}}}{\\partial{w_{t+j}}} = \\phi^j + \\phi^{j-1} + \\cdots + 1\n",
    "$$\n",
    "となり, $|\\phi| < 1$なら, $j\\rightarrow \\infty$ の極限で $1/(1-\\phi)$ となる."
   ]
  },
  {
   "cell_type": "markdown",
   "metadata": {},
   "source": [
    "また, wの一時的な変化が将来に与える影響の累積は,\n",
    "$$\n",
    "\\sum^\\infty_{j = 0} \\frac{\\partial{y_{t+j}}}{\\partial{w_t}} = \\frac{1}{1-\\phi}\n",
    "$$\n",
    "となる."
   ]
  },
  {
   "cell_type": "markdown",
   "metadata": {},
   "source": [
    "## p次差分方程式"
   ]
  },
  {
   "cell_type": "markdown",
   "metadata": {},
   "source": [
    "p次差分方程式\n",
    "$$\n",
    "y_t = \\phi_1 y_{t-1} + \\phi_2 y_{t-2} + \\cdots + \\phi_p y_{t-p} + w_t\n",
    "$$\n",
    "は, \n",
    "$$\n",
    "\\xi_t = (y_t, y_{t-1}, \\ldots, y_{t-p+1})'\n",
    "$$\n",
    "$$\n",
    "v_t = (w_t, 0,  \\ldots, 0)'\n",
    "$$\n",
    "とし,\n",
    "$$\n",
    "F = \\begin{pmatrix}\n",
    "  \\phi_1 && \\phi_2 && \\cdots && \\phi_{p-1} && \\phi_p\\\\\n",
    "  1 && 0 && \\cdots && 0 && 0\\\\\n",
    "  0 && 1 && \\cdots && 0 && 0\\\\\n",
    "  \\vdots && \\vdots && \\ddots && \\vdots && \\vdots\\\\\n",
    "  0 && 0 && \\cdots && 1 && 0\n",
    "  \\end{pmatrix}\n",
    "$$\n",
    "とすると, \n",
    "$$\n",
    "\\xi_t = F \\xi_{t-1} + v_t\n",
    "$$\n",
    "と書ける."
   ]
  },
  {
   "cell_type": "markdown",
   "metadata": {},
   "source": [
    "代入法を繰り返し用いることで,\n",
    "$$\n",
    "\\xi_{t+j }= F^{j+1}\\xi_{t-1} + F^j v_t + F^{j-1} v_{t+1} + \\cdots + F v_{t+j-1} + v_{t+j}\n",
    "$$\n",
    "となるので, $F^t$の(i, j)成分を$f^{(t)}_{ij}$ のように表記するようにすると,\n",
    "$$\n",
    "y_{t+j} = f^{(j+1)}_{11} y_{t-1} + f^{(j+1)}_{12} y_{t-2} + \\cdots + f^{(j+1)}_{1p} y_{t-p} + f^{(j)}_{11} w_t + f^{(j-1)}_{11} w_{t+1} + \\cdots + f^{(1)}_{11} w_{t+j-1} + w_{t+j}\n",
    "$$\n",
    "となる.\n",
    "よって, p次差分方程式における動学乗数は, $\\partial{y_{t+j}}/\\partial{w_t} = f^{(j)}_{11}$となる.\n"
   ]
  },
  {
   "cell_type": "markdown",
   "metadata": {},
   "source": [
    "この求め方について考える.\n",
    "\n",
    "$$\n",
    "y_{t} = f^{(t+1)}_{11} y_{-1} + f^{(t+1)}_{12} y_{-2} + \\cdots + f^{(t+1)}_{1p} y_{-p} + f^{(j)}_{11} w_0 + f^{(j-1)}_{11} w_{1} + \\cdots + f^{(1)}_{11} w_{t-1} + w_{t}\n",
    "$$\n",
    "\n",
    "$\\frac{\\partial{y_{t+j}}}{\\partial{w_t}} = f^{(j)}_{11}$の右辺が$w_t$に依存しない定数であることより, $\\Delta y_{t+j} = f_{11}^{j} \\Delta w_t$ が成り立つので,\n",
    "$\\Delta w_t = 1$と置くために例えば$y_{-1} = y_{-2} = \\cdots = y_{-p} = 0, w_0 = 1, w_j = 0\\ (j \\neq 0)$と置き,$y_t$の値を計算する. ここで$y_t$は$w_0 = 0$のとき0であるから, $\\Delta y_t = y_t$となり, これが求める値となる."
   ]
  },
  {
   "cell_type": "markdown",
   "metadata": {},
   "source": [
    "### 命題1.1\n",
    "上で定義したFの固有値は, \n",
    "$$\n",
    "\\lambda^p - \\phi_1 \\lambda^{p-1} -\\phi^2 \\lambda^{p-2} - \\cdots - \\phi_{p-1} \\lambda -\\phi_p = 0\n",
    "$$\n",
    "をみたす$\\lambda$によって与えられる.(証明略)"
   ]
  },
  {
   "cell_type": "markdown",
   "metadata": {},
   "source": [
    "固有値が相異なる時のp次差分方程式の一般解\n",
    "$$\n",
    "F = T \\Lambda T^{-1}\n",
    "$$\n",
    "とかけるので, \n",
    "$$\n",
    "F^j = T\\Lambda^j T^{-1}\n",
    "$$"
   ]
  },
  {
   "cell_type": "markdown",
   "metadata": {},
   "source": [
    "\n",
    "ここで, $T$の(i, j)成分を$t_{ij}$, $T^{-1}$の(i, j)成分を$t^{ij}$ と表記することにすると,\n",
    "$$\n",
    "f^{(j)}_{11} = (t_{11}t^{11})\\lambda^j_1 + (t_{12}t^{21})\\lambda^j_2 + \\cdots + (t_{1p}t^{p1})\\lambda^j_p\\\\\n",
    "= c_1 \\lambda_1^j + c_2\\lambda_2^j + \\cdots + c_p \\lambda_p^j\n",
    "$$\n",
    "ただし$c_i = t_{1i}t^{i1}$\n"
   ]
  },
  {
   "cell_type": "markdown",
   "metadata": {},
   "source": [
    "\n",
    "また,$\\sum^p_{i = 1} t_{1i}t^{i1} = 1$であることより, $\\sum^p_{i=1} c_i = 1$となる.\n",
    "\n",
    "これより, \n",
    "$$\n",
    "\\frac{\\partial{y_{t+j}}}{\\partial{w_t}} = c_1 \\lambda_1^j + c_2\\lambda_2^j + \\cdots + c_p \\lambda_p^j\n",
    "$$\n",
    "となる.\n"
   ]
  },
  {
   "cell_type": "markdown",
   "metadata": {},
   "source": [
    "\n",
    "### 命題1.2\n",
    "Fの固有値が相異なるとき, \n",
    "$$\n",
    "c_i = \\frac{\\lambda_i^{p-1}}{\\prod^p_{k = 1, k \\neq i} (\\lambda_i - \\lambda_k)}\n",
    "$$\n",
    "\n",
    "固有値が複素数であるときの周波数は$\\theta$で与えられ, $\\theta = \\arccos(a/R)$となる.\n",
    "\n",
    "また, 周期は$2\\pi/\\theta$で与えられる."
   ]
  },
  {
   "cell_type": "markdown",
   "metadata": {},
   "source": [
    "この命題より, 二次差分方程式において$\\lambda_1, \\lambda_2$が共役な複素数のとき, $c_1, c_2$も共役な複素数となる."
   ]
  },
  {
   "cell_type": "markdown",
   "metadata": {},
   "source": [
    "\n",
    "### 固有値が重複する場合のp次差分方程式の一般解\n",
    "一般には, ジョルダン分解を用いて $F = MJM^{-1}$ と分解できる\n",
    "ただしJは\n",
    "$$\n",
    "J_i = \\begin{pmatrix}\n",
    "  \\lambda_i && 1 && 0 && \\cdots && 0\\\\\n",
    "  0 && \\lambda_i && 1 && \\cdots && 0\\\\\n",
    "  0 && 0 && \\lambda_i && \\cdots && 0\\\\\n",
    "  \\vdots && \\vdots && \\vdots && \\ddots && \\vdots\\\\\n",
    "  0 && 0 && 0 && \\cdots && \\lambda_i\n",
    "  \\end{pmatrix}\n",
    "$$\n",
    "を用いて,\n",
    "$$\n",
    "J = \\begin{pmatrix}\n",
    "  J_1 && 0 && 0 && \\cdots && 0\\\\\n",
    "  0 && J_2 && 0 && \\cdots && 0\\\\\n",
    "  0 && 0 && J_3 && \\cdots && 0\\\\\n",
    "  \\vdots && \\vdots && \\vdots && \\ddots && \\vdots\\\\\n",
    "  0 && 0 && 0 && \\cdots && J_s\n",
    "  \\end{pmatrix}\n",
    "$$\n",
    "と表される.\n",
    "これより, $F^j = M J^j M^{-1}$"
   ]
  },
  {
   "cell_type": "markdown",
   "metadata": {},
   "source": [
    "\n",
    "よって$F^j = MJ^j M^{-1}$となるが, このとき$J_i^j$は,\n",
    "$$\n",
    "J_i^j =  \\begin{pmatrix}\n",
    "  \\lambda_i^j && \\binom{j}{1}\\lambda_i^{j-1} && \\binom{j}{2}\\lambda_i^{j-2} && \\cdots && \\binom{j}{n_i - 1}\\lambda_i^{j-n_i +1}\\\\\n",
    "  0 && \\lambda_i^j && \\binom{j}{1}\\lambda_i^{j-1} && \\cdots && \\binom{j}{n_i-2}\\lambda_i^{j-n_i+2}\\\\\n",
    "  \\vdots && \\vdots && \\vdots && \\ddots && \\vdots\\\\\n",
    "  0 && 0 && 0 && \\cdots && \\lambda_i^j\n",
    "  \\end{pmatrix}\n",
    "$$\n",
    "とかける.\n",
    "重複する固有値をもつ二次差分方程式の場合, 動学乗数は\n",
    "$$\n",
    "F^j_{(1,1)} = \\left.M\n",
    "\\begin{pmatrix}\n",
    "  \\lambda^j && j\\lambda^{j-1}\\\\\n",
    "  0 && \\lambda^j\\\\\n",
    "  \\end{pmatrix}M^{-1}\\right|_{(1, 1)}\n",
    "   = k_1 \\lambda^j + k_2 j\\lambda^{j-1}\n",
    "  $$\n",
    "\n"
   ]
  },
  {
   "cell_type": "markdown",
   "metadata": {},
   "source": [
    "\n",
    "固有値の絶対値がすべて1より小さいとすると,$ j \\rightarrow \\infty$ で$F^j\\rightarrow 0$となるから, \n",
    "$$\n",
    "y_t = w_t + \\psi_1 w_{t-1} + \\psi_2 w_{t-2} + \\cdots\n",
    "$$\n",
    "と書くことができる. ただし$\\psi_j $は$F^j $の(1, 1)成分"
   ]
  },
  {
   "cell_type": "markdown",
   "metadata": {},
   "source": [
    "$v_t$の変化が$\\xi_{t+j}$の現在価値に与える影響は,\n",
    "$$\n",
    "\\frac{\\partial{\\xi_{t+j}}}{\\partial{v_t'}} = F^j\n",
    "$$\n",
    "となり, $\\partial{y_{t+j}} / \\partial{w_t}$ は上の行列の(1, 1)成分である.\n",
    "また,vの変化が$\\xi$ の現在価値に与える影響は次のようになる. $Fの固有値\\times \\beta$ の絶対値がすべて1より小さいという条件のもとで$(I_p - \\beta F)$に逆行列が存在し, \n",
    "\n",
    "$$\n",
    "\\frac{\\partial{\\sum_{j = 0}^\\infty \\beta^j \\xi_{t+j}}}{\\partial{v_t'}} = \\sum^\\infty_{j=0} \\beta^j F^j = (I_p - \\beta F)^{-1}\n",
    "$$\n",
    "となる. したがって, \n",
    "### 命題1.3\n",
    "$$\n",
    "\\frac{\\partial{\\sum_{j = 0}^\\infty \\beta^j y_{t+j}}}{\\partial{w_t}} = \\frac{1}{1-\\phi_1 \\beta - \\phi_2 \\beta^2 - \\cdots - \\phi_p \\beta^p}\n",
    "$$\n",
    "となる."
   ]
  },
  {
   "cell_type": "markdown",
   "metadata": {},
   "source": [
    "# ラグ作用素"
   ]
  },
  {
   "cell_type": "markdown",
   "metadata": {},
   "source": [
    "## 導入"
   ]
  },
  {
   "cell_type": "markdown",
   "metadata": {},
   "source": [
    "\n",
    "観測された標本$(y_1, y_2, \\ldots, y_T)$を, $\\{y_t\\}_{t = -\\infty}^{\\infty}$ で表記される二重無限数列の有限部分数列の一部とみなすことができる.\n",
    "\n",
    "(例1) 時間トレンド: $y_t = t$であるような$\\{y_t\\}$\n",
    "\n",
    "(例2) 正規ホワイトノイズ過程: $y_t \\sim N(0, \\sigma^2)$ であるような$\\{y_t\\}$"
   ]
  },
  {
   "cell_type": "markdown",
   "metadata": {},
   "source": [
    "時系列作用素とはk次元時系列空間から時系列空間への写像\n",
    "\n",
    "(例) 乗法作用素, 加法作用素, ラグ作用素, 恒等作用素\n"
   ]
  },
  {
   "cell_type": "markdown",
   "metadata": {},
   "source": [
    "\n",
    "以下ラグ作用素Lについて考える.\n",
    "$L : \\{x_t\\} \\mapsto \\{y_t\\}$ ただし, $y_t = x_{t-1}$\n",
    "\n",
    "ラグ作用素をk回作用させる(つまり$\\{x_t\\} \\mapsto \\{x_{t-k}\\}$)作用素を, $L^k$ と表記する.\n",
    "\n",
    "### ラグ作用素の性質\n",
    "乗法作用素と可換\n",
    "加法作用素と分配可能\n",
    "定数時系列$\\{x_t\\}$は不動点\n"
   ]
  },
  {
   "cell_type": "markdown",
   "metadata": {},
   "source": [
    "## 1次差分方程式\n",
    "$$\n",
    "(1 + \\phi L + \\phi^2 L^2 + \\cdots + \\phi^j L^j)(1 - \\phi L)y_m = y_m - \\phi^{j+1} y_{m-j-1}\n",
    "$$\n",
    "\n",
    "$\\{y_t\\}$が有界なら, 右辺は$j\\rightarrow\\infty$の極限で$y_m$に収束する.\n",
    "\n",
    "よって,$\\lim_j (1 + \\phi L + \\phi^2 L^2 + \\cdots + \\phi^j L^j)(1 - \\phi L) = 1$(恒等作用素)\n",
    "\n",
    "となるから, $(1-\\phi L)$の逆作用素を考えることができ,\n",
    "$$\n",
    "(1 - \\phi L)^{-1} = \\lim_j (1 + \\phi L + \\phi^2 L^2 + \\cdots + \\phi^j L^j)\n",
    "$$\n",
    "と定義できる.\n",
    "\n",
    "$\\{y_t\\}$が有界でないとき, $(1-\\phi L)$は全単射ではないので, 逆写像が定義できない.(p37の例)\n",
    "\n",
    "(例) $y_t = (\\phi/2)^t$ となる$\\{y_t\\}$.\n",
    "\n",
    "この$y_t$については, $y_m - \\phi^{j+1} y_{m-j-1}$が$j\\rightarrow\\infty$の極限で$y_m$に収束しないから, $(1-\\phi L)^{-1}$を上のように定義しても$(1-\\phi L)^{-1}(1 - \\phi L) = 1$が成り立たない."
   ]
  },
  {
   "cell_type": "markdown",
   "metadata": {},
   "source": [
    "## 2次差分方程式"
   ]
  },
  {
   "cell_type": "markdown",
   "metadata": {},
   "source": [
    "### 命題2.1\n",
    "多項式$1-\\phi L - \\phi^2 L^2$ を\n",
    "$$\n",
    "1-\\phi L -\\phi^2 L^2  = (1-\\lambda_1 L)(1-\\lambda_2 L)\n",
    "$$\n",
    "と因数分解することは, 行列$F$の固有値を求めることと同じである. つまり, $F$の固有値$\\lambda_1, \\lambda_2$は上式におけるパラメータ$\\lambda_1$と$\\lambda_2$と同一である."
   ]
  },
  {
   "cell_type": "markdown",
   "metadata": {},
   "source": [
    "システムが安定的$\\Leftrightarrow \\lambda^2 - \\phi_1 \\lambda - \\phi_2 \\lambda^2 = 0$の解が単位円内にある$\\Leftrightarrow 1-\\phi_1 z - \\phi_2 z^2 = 0$の解が単位円外にある"
   ]
  },
  {
   "cell_type": "markdown",
   "metadata": {},
   "source": [
    "\n",
    "2次差分方程式は単位円内に相異なる固有値を持ち安定的であるとき, 1次差分方程式の場合と同様に有界数列に対して逆作用素が定義でき, \n",
    "$$\n",
    "(1-\\lambda_1 L)^{-1} = 1 + \\lambda_1^1 L + \\lambda_1^2 L^2 + \\cdots\\\\\n",
    "(1-\\lambda_2 L)^{-1} = 1 + \\lambda_2^1 L + \\lambda_2^2 L^2 + \\cdots\n",
    "$$\n",
    "と定義される.\n",
    "\n",
    "<!-- ryaku-->"
   ]
  },
  {
   "cell_type": "markdown",
   "metadata": {},
   "source": [
    "## p次差分方程式"
   ]
  },
  {
   "cell_type": "markdown",
   "metadata": {},
   "source": [
    "<!-- ryaku -->\n",
    "\n",
    "\n",
    "### 命題2.2\n",
    "多項式$1-\\phi L -\\phi^2 L^2 -\\cdots - \\phi_p L^p$ を\n",
    "$$\n",
    "1-\\phi L -\\phi^2 L^2 -\\cdots - \\phi_p L^p  = (1-\\lambda_1 L)(1-\\lambda_2 L)\\cdots(1 - \\lambda_p L)\n",
    "$$\n",
    "と因数分解することは, 行列Fの固有値を求めることと同じである."
   ]
  },
  {
   "cell_type": "markdown",
   "metadata": {},
   "source": [
    "固有値がすべて相異なるとすると, 部分分数分解を用いて,\n",
    "$$\n",
    "\\frac{1}{(1-\\lambda_1 z)(1-\\lambda_2 z)\\cdots(1-\\lambda_p z)} = \\frac{c_1}{1-\\lambda_1 z} + \\frac{c_2}{1-\\lambda_2 z} + \\cdots + \\frac{c_p}{1-\\lambda_p z}\n",
    "$$\n",
    "と分解でき, $\\{y_t\\}, \\{w_t\\}$を有界な数列とすると,\n",
    "$$\n",
    "(1-\\lambda_1 z)(1-\\lambda_2 z)\\cdots(1-\\lambda_p z) y_t = w_t\n",
    "$$\n",
    "つまり\n",
    "$$\n",
    "y_t = w_t(1-\\lambda_1 z)^{-1}(1-\\lambda_2 z)^{-1}\\cdots(1-\\lambda_p z)^{-1} \n",
    "$$\n",
    "は\n",
    "$$\n",
    "y_t = (c_1 + c_2 + \\cdots + c_p)w_t + (c_1\\lambda_1 + c_2\\lambda_2 + \\cdots + c_p\\lambda_p)w_{t-1} +\\cdots\n",
    "$$\n",
    "となる.\n",
    "これより動学乗数が$\\partial{y_{t+j}} / \\partial{w_t} = c_1\\lambda_1^j + c_2\\lambda_2^j + \\cdots + c_p\\lambda_p^j$と簡単に求まる."
   ]
  },
  {
   "cell_type": "markdown",
   "metadata": {},
   "source": [
    "ここで, $\\psi_j = c_1\\lambda_1^j + c_2\\lambda_2^j + \\cdots + c_p\\lambda_p^j$と定義し, \n",
    "$$\n",
    "\\psi(L) = \\psi_0 + \\psi_1 L+ \\psi_2 L^2 + \\cdots\n",
    "$$\n",
    "と定義して,\n",
    "$$\n",
    "y_t = \\psi(L)w_t\n",
    "$$\n",
    "と書き直す.\n",
    "\n",
    "ここで, \n",
    "$$\n",
    "\\frac{\\partial{\\sum_{j = 0}^\\infty \\beta^j y_{t+j}}}{\\partial{w_t}} = \\sum_{j=0}^\\infty \\beta^j \\psi_j = \\psi(\\beta)\n",
    "$$\n",
    "となる.\n",
    "\n",
    "$$\n",
    "\\psi(L) = \\psi_0 + \\psi_1 L+ \\psi_2 L^2 + \\cdots\n",
    "$$\n",
    "と\n",
    "$$\n",
    "y_t = w_t(1-\\lambda_1 z)^{-1}(1-\\lambda_2 z)^{-1}\\cdots(1-\\lambda_p z)^{-1} \n",
    "$$\n",
    "を比較して,\n",
    "$$\n",
    "\\psi(L) = (1-\\phi_1 L - \\phi_2 L^2 -\\cdots-\\phi_p L^p)^{-1}\n",
    "$$\n",
    "を得る. ゆえに,\n",
    "$$\n",
    "\\frac{\\partial{\\sum_{j = 0}^\\infty \\beta^j y_{t+j}}}{\\partial{w_t}} = \\psi(\\beta) = (1-\\phi_1 \\beta - \\phi_2 \\beta^2 -\\cdots-\\phi_p \\beta^p)^{-1}\n",
    "$$\n",
    "である."
   ]
  },
  {
   "cell_type": "markdown",
   "metadata": {},
   "source": [
    "## 初期条件と非有界数列"
   ]
  },
  {
   "cell_type": "markdown",
   "metadata": {},
   "source": [
    "株のモデル\n",
    "\n",
    "$r$: 投資家が株式から得る収益率\n",
    "$P_t$: 株価\n",
    "$D_t$: 配当\n",
    "とする. また, 投資家が株式から得る収益率は時間を通じて行っていであると仮定する.\n",
    "このとき\n",
    "$$\n",
    "r = (P_{t+1} - P_t)/P_t + D_t/P_t\\ \\ \\ (r > 0)\n",
    "$$\n"
   ]
  },
  {
   "cell_type": "markdown",
   "metadata": {},
   "source": [
    "\n",
    "変形して,\n",
    "$$\n",
    "P_{t+1} = (1+r)P_t - D_t\n",
    "$$\n",
    "\n",
    "これは一次差分方程式として考えられて,\n",
    "$$\n",
    "P_{t+1} = (1+r)^{t+1}P_0 - (1+r)^t D_0 - (1+r)^{t-1} D_1 - \\cdots - (1+r) D_{t-1} - D_t\n",
    "$$\n"
   ]
  },
  {
   "cell_type": "markdown",
   "metadata": {},
   "source": [
    "ここで, 任意のtに対して$D_t = D$と仮定すると, \n",
    "$$\n",
    "P_{t+1} = (1+r)^{t+1}P_0 - \\frac{1-(1+r)^{t+1}}{1-(1+r)} D\\tag{1}\n",
    "= (1+r)^{t+1}(P_0 - D/r) + D/r\n",
    "$$\n",
    "\n",
    "$P_0 \\neq D/r$のとき, $t\\rightarrow \\infty$のもとで$P_{t+1}$は発散してしまう(投機的バブル).\n",
    "\n",
    "$P_0 = D/r$を市場のファンダメンタルズ解と呼ぶ."
   ]
  },
  {
   "cell_type": "markdown",
   "metadata": {},
   "source": [
    "p49にあるような解(投機的バブル)を排除するためには$\\{P_t\\}$が有界であるという仮定が必要. このとき, 市場ファンダメンタルズ解のみが(1)の解となる.\n",
    "\n",
    "$D_t$が定数であるという仮定から$\\{D_t\\}$が有界数列であるというより弱い仮定にすると, \n",
    "繰り返し代入法より,\n",
    "$$\n",
    "P_t = \\frac{P_{t+T}}{(1+r)^T} + \\frac{D_{t+T-1}}{(1+r)^T} + \\frac{D_{t+T-2}}{(1+r)^{T-1}} + \\cdots + \\frac{D_{t}}{(1+r)}\n",
    "$$\n",
    "\n",
    "$\\lim_T P_{t+T}/(1+r)^T = 0$であること,また$D_t$が有界であることより,\n",
    "$$\n",
    "P_t = \\sum^\\infty_{j=0} 1/(1+r)^{j+1} D_{t+j}\n",
    "$$\n",
    "これを用いて, 有界条件を満たす$P_0$を求めることができ, $P_0 = \\sum^\\infty_{j=0} 1/(1+r)^{j+1} D_{j}$となる."
   ]
  },
  {
   "cell_type": "markdown",
   "metadata": {},
   "source": [
    "$(1-\\phi L)y_t = w_t$ という形の一次差分方程式が与えられた場合, $|\\phi| < 1$のときは\n",
    "$$\n",
    "(1-\\phi L)^{-1} = 1 + \\phi L + \\phi^2 L^2 + \\cdots\n",
    "$$\n",
    "をかけて方程式を前方に解き, $|\\phi| > 1$のときは\n",
    "$$\n",
    "(1-\\phi L)^{-1} = -\\phi^{-1} L^{-1}(1 + \\phi^{-1} L^{-1} + \\phi^{-2} L^{-2} + \\cdots)\n",
    "$$\n",
    "をかけて方程式を後方に解くとよい.\n",
    "\n",
    "このように$\\phi$の値に基づいて$(1-\\phi L)^{-1}$を定めると, $(1-\\phi L)^{-1}(1-\\phi L) = 1 \\ \\ \\ (恒等作用素)$となる.\n",
    "また, $(1-\\phi L)$を有界数列に作用させると, その結果も有界数列になる."
   ]
  }
 ],
 "metadata": {
  "kernelspec": {
   "display_name": "Julia 0.4.6",
   "language": "julia",
   "name": "julia-0.4"
  },
  "language_info": {
   "file_extension": ".jl",
   "mimetype": "application/julia",
   "name": "julia",
   "version": "0.4.6"
  }
 },
 "nbformat": 4,
 "nbformat_minor": 0
}
