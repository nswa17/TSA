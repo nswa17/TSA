{
 "cells": [
  {
   "cell_type": "markdown",
   "metadata": {},
   "source": [
    "# 差分方程式"
   ]
  },
  {
   "cell_type": "markdown",
   "metadata": {},
   "source": [
    "## 1次差分方程式"
   ]
  },
  {
   "cell_type": "markdown",
   "metadata": {},
   "source": [
    "線形1次差分方程式\n",
    "$$\n",
    "y_t = \\phi y_{t-1} + w_t\n",
    "$$"
   ]
  },
  {
   "cell_type": "markdown",
   "metadata": {},
   "source": [
    "動学乗数dynamic multiplier($w_t$のみが微小に変化した時$y_{t+j}$に与える影響)\n",
    "$$\n",
    "\\frac{\\partial{y_{t+j}}}{\\partial{w_t}} = \\phi^j\n",
    "$$\n",
    "と書ける"
   ]
  },
  {
   "cell_type": "code",
   "execution_count": null,
   "metadata": {
    "collapsed": true
   },
   "outputs": [],
   "source": [
    "function get_ys(phi, len, y_0, ws)\n",
    "    ys = \n",
    "end"
   ]
  },
  {
   "cell_type": "markdown",
   "metadata": {},
   "source": [
    "$\\beta$を割引因子としたときの, 時点tにおける今後の実現値の流列の現在価値は,\n",
    "$$\n",
    "S = \\sum^\\infty_{j=0} \\beta^j y_{t+j}\n",
    "$$\n",
    "w_tだけ一単位増加した場合, yの現在価値への影響は$\\partial S/\\partial{w_t}$となる. \n",
    "\n",
    "これは$|\\beta\\phi| < 1$のもとで収束し, \n",
    "$$\n",
    "\\frac{\\partial S}{\\partial{w_t}} = \\sum^\\infty_{j = 0}\\beta^j \\phi^j = \\frac{1}{1-\\beta\\phi}\n",
    "$$\n",
    "となる."
   ]
  },
  {
   "cell_type": "markdown",
   "metadata": {},
   "source": [
    "時点t以降におけるwの恒久的な変化が$y_{t+j}$に与える影響は,\\\\\n",
    "$$\n",
    "\\frac{\\partial{y_{t+j}}}{\\partial{w_t}} + \\frac{\\partial{y_{t+j}}}{\\partial{w_t}} + \\cdots + \\frac{\\partial{y_{t+j}}}{\\partial{w_t}} = \\phi^j + \\phi^{j-1} + \\cdots + 1\n",
    "$$\n",
    "となり, $|\\phi| < 1$なら, $j\\rightarrow \\infty$ の極限で $\\frac{1}{1-\\phi}$ となる."
   ]
  },
  {
   "cell_type": "markdown",
   "metadata": {},
   "source": []
  },
  {
   "cell_type": "markdown",
   "metadata": {},
   "source": []
  },
  {
   "cell_type": "markdown",
   "metadata": {},
   "source": []
  },
  {
   "cell_type": "markdown",
   "metadata": {},
   "source": []
  },
  {
   "cell_type": "markdown",
   "metadata": {},
   "source": [
    "## p次差分方程式"
   ]
  },
  {
   "cell_type": "markdown",
   "metadata": {},
   "source": [
    "p次差分方程式\n",
    "$$\n",
    "y_t = \\phi_1 y_{t-1} + \\phi_2 y_{t-2} + \\cdots + \\phi_p y_{t-p} + w_t\n",
    "$$\n",
    "は, \n",
    "$$\n",
    "\\xi_t = (y_t, y_{t-1}, \\ldots, y_{t-p+1})'\n",
    "$$\n",
    "とし,\n",
    "$$\n",
    "v_t = (w_t, 0,  \\ldots, 0)'\n",
    "$$\n",
    "とし,\n",
    "$$\n",
    "F = \\begin{pmatrix}\n",
    "  \\phi_1 && \\phi_2 && \\cdots && \\phi_{p-1} && \\phi_p\\\\\n",
    "  1 && 0 && \\cdots && 0 && 0\\\\\n",
    "  0 && 1 && \\cdots && 0 && 0\\\\\n",
    "  \\vdots && \\vdots && \\ddots && \\vdots && \\vdots\\\\\n",
    "  0 && 0 && \\cdots && 1 && 0\n",
    "  \\end{pmatrix}\n",
    "$$\n",
    "とすると, \n",
    "$$\n",
    "\\xi_t = F \\xi_{t-1} + v_t\n",
    "$$\n",
    "と書ける."
   ]
  },
  {
   "cell_type": "markdown",
   "metadata": {},
   "source": [
    "代入法を繰り返し用いることで,\n",
    "$$\n",
    "\\xi_{t+j }= F^{j+1}\\xi_{t-1} + F^j v_t + F^{j-1} v_{t+1} + \\cdots + F v_{t+j-1} + v_{t+j}\n",
    "$$\n",
    "となるので, $F^t$の(i, j)成分を$f^{(t)}_{ij}$ のように表記するようにすると,\n",
    "$$\n",
    "y_{t+j} = f^{(j+1)}_{11} y_{t-1} + f^{(j+1)}_{12} y_{t-2} + \\cdots + f^{(j+1)}_{1p} y_{t-p} + f^{(j)}_{11} w_t + f^{(j-1)}_{11} w_({t+1} + \\cdots + f^{(1)}_{11} w_{t+j-1} + w_{t+j}\n",
    "$$\n",
    "となる.\n",
    "よって, p次差分方程式における動学乗数は, $\\frac{\\partial{y_{t+j}}}{\\partial{w_t}} = f^{(j)}_{11}$となる.\n"
   ]
  },
  {
   "cell_type": "markdown",
   "metadata": {},
   "source": [
    "\n",
    "この求め方は <!-- 不明 -->"
   ]
  },
  {
   "cell_type": "markdown",
   "metadata": {},
   "source": [
    "上で定義したFの固有値は, \n",
    "$$\n",
    "\\lambda^p - \\phi_1 \\lambda^{p-1} -\\phi^2 \\lambda^{p-2} - \\cdots - \\phi_{p-1} \\lambda -\\phi_p = 0\n",
    "$$\n",
    "をみたす$\\lambda$によって与えられる."
   ]
  },
  {
   "cell_type": "markdown",
   "metadata": {},
   "source": [
    "固有値が相異なる時のp次差分方程式の一般解\n",
    "$$\n",
    "F = T \\Lambda T^{-1}\n",
    "$$\n",
    "とかけるので, \n",
    "$$\n",
    "F^j = T\\Lambda^j T^{-1}\n",
    "$$"
   ]
  },
  {
   "cell_type": "markdown",
   "metadata": {},
   "source": [
    "\n",
    "ここで, Tの(i, j)成分を$t_{ij}$, $T^{-1}$の(i, j)成分を$t^{ij}$ と表記することにすると,\n",
    "$$\n",
    "f^{(j)}_{11} = (t_{11}t^{11})\\lambda^j_1 + (t_{12}t^{21})\\lambda^j_2 + \\cdots + (t_{1p}t^{p1})\\lambda^j_p\\\\\n",
    "= c_1 \\lambda_1^j + c_2\\lambda_2^j + \\cdots + c_p \\lambda_p^j\n",
    "$$\n",
    "ただし$c_i = t_{1i}t^{i1}$\n"
   ]
  },
  {
   "cell_type": "markdown",
   "metadata": {},
   "source": [
    "\n",
    "また,$\\sum^p_{i = 1} t_{1i}t^{i1} = 1$であることより, $\\sum^p_{i=1} c_i = 1$となる.\n",
    "\n",
    "これより, \n",
    "$$\n",
    "\\frac{\\partial{y_{t+j}}}{\\partial{w_t}} = c_1 \\lambda_1^j + c_2\\lambda_2^j + \\cdots + c_p \\lambda_p^j\n",
    "$$\n",
    "となる.\n"
   ]
  },
  {
   "cell_type": "markdown",
   "metadata": {},
   "source": [
    "\n",
    "### 命題1.2\n",
    "Fの固有値が相異なるとき, \n",
    "$$\n",
    "c_i = \\frac{\\lambda_i^{p-1}}{\\prod^p_{k = 1, k \\neq i} (\\lambda_i - \\lambda_k)}\n",
    "$$\n",
    "\n",
    "固有値が複素数であるときの周波数は$\\theta$で与えられ, $\\theta = arccos(a/R)$となる.%%%\n",
    "\n",
    "また, 周期は$\\frac{2\\pi}{\\theta}$で与えられる."
   ]
  },
  {
   "cell_type": "markdown",
   "metadata": {},
   "source": [
    "\n",
    "### 固有値が重複する場合のp次差分方程式の一般解\n",
    "一般には, ジョルダン分解を用いて F = MJM^{-1} と分解できる\n",
    "ただしJは\n",
    "$$\n",
    "J_i = <!-- matrix -->\n",
    "$$\n",
    "を用いて,\n",
    "$$\n",
    "J = \n",
    "$$\n",
    "と表される."
   ]
  },
  {
   "cell_type": "markdown",
   "metadata": {},
   "source": [
    "\n",
    "よって$F^j = MJ^i M^{-1}$となるが, このとき$J_i^j$は,\n",
    "$$\n",
    "J_i^j = \n",
    "$$\n",
    "とかける.\n",
    "重複する固有値をもつ二次差分方程式の場合$\\Rightarrow$ 黒板.\n",
    "\n"
   ]
  },
  {
   "cell_type": "markdown",
   "metadata": {},
   "source": [
    "\n",
    "固有値の絶対値がすべて1より小さいとすると,$ j \\rightarrow \\infty$ で$F^j\\rightarrow 0$となるから, \n",
    "$$\n",
    "y_t = w_t + \\psi_1 w_{t-1} + \\psi_2 w_{t-2} + \\cdots\n",
    "$$\n",
    "と書くことができる. ただし$\\psi_j $は$F^j $の(1, 1)成分"
   ]
  },
  {
   "cell_type": "markdown",
   "metadata": {},
   "source": [
    "\n",
    "\n",
    "v_tの変化が$\\xi_{t+j}$の現在価値に与える影響は,\n",
    "$$\n",
    "\\frac{\\partial{\\xi_{t+j}}}{\\partial{v_t'}} = F^j\n",
    "$$\n",
    "となり, $\\partial{y_{t+j}} / \\partial{w_t}$ は上の行列の(1, 1)成分である.\n",
    "また,vの変化が$\\xi$ の現在価値に与える影響は, $Fの固有値\\times \\beta$ が1より小さいという条件のもとで, <!-- 条件導出 -->\n",
    "$$\n",
    "\\frac{\\partial{\\sum_{j = 0}^\\infty \\beta^j \\xi_{t+j}}}{\\partial{v_t'}} = \\sum^\\infty_{j=0} \\beta^j F^j = (I_p - \\beta F)^{-1}\n",
    "$$\n",
    "となる. したがって, \n",
    "### 命題1.3\n",
    "$$\n",
    "\\frac{\\partial{\\sum_{j = 0}^\\infty \\beta^j y_{t+j}}}{\\partial{w_t}} = \\frac{1}{1-\\phi_1 \\beta - \\phi_2 \\beta^2 - \\cdots - \\phi_p \\beta^p}\n",
    "$$\n",
    "となる."
   ]
  },
  {
   "cell_type": "markdown",
   "metadata": {},
   "source": []
  },
  {
   "cell_type": "markdown",
   "metadata": {},
   "source": [
    "# ラグ作用素"
   ]
  },
  {
   "cell_type": "markdown",
   "metadata": {},
   "source": [
    "### 導入"
   ]
  },
  {
   "cell_type": "markdown",
   "metadata": {},
   "source": [
    "\n",
    "観測された標本$(y_1, y_2, \\ldots, y_T)$を, $\\{y_t\\}_{t = -\\infty}^{\\infty}$ で表記される二重無限数列の有限部分数列の一部とみなすことができる.\n",
    "(例) 時間トレンド: $y_t = t$であるような$\\{y_t\\}$\n",
    "正規ホワイトノイズ過程: $y_t \\sim N(0, \\sigma^2)$ であるような$\\{y_t\\}$"
   ]
  },
  {
   "cell_type": "markdown",
   "metadata": {},
   "source": [
    "時系列作用素: k次元時系列空間から時系列空間への写像\n",
    "\n",
    "(例) 乗法作用素, 加法作用素, ラグ作用素, 恒等作用素\n"
   ]
  },
  {
   "cell_type": "markdown",
   "metadata": {},
   "source": [
    "\n",
    "以下ラグ作用素について考える.\n",
    "$L : \\{x_t\\} \\mapsto \\{y_t\\}$ ただし, $y_t = x_{t-1}$\n",
    "\n",
    "ラグ作用素をk回作用させる(つまり$\\{x_t\\} \\mapsto \\{x_{t-k}\\}$)作用素を, $L^k$ と表記する.\n",
    "\n",
    "### ラグ作用素の性質\n",
    "乗法作用素と可換\n",
    "加法作用素と分配可能\n",
    "定数時系列\\{x_t\\}は不動点\n"
   ]
  },
  {
   "cell_type": "markdown",
   "metadata": {},
   "source": [
    "\n",
    "$$\n",
    "(1 + \\phi L + \\phi^2 L^2 + \\cdots + \\phi^j L^j)(1 - \\phi L)y_m = y_m - \\phi^{j+1} y_{m-j-1}<!-- 不正確? -->\n",
    "$$\n",
    "$\\{y_t\\}$が有界なら, 右辺は$j\\rightarrow\\infty$の極限でy_mに収束する.\n",
    "\n",
    "よって,$\\lim_j (1 + \\phi L + \\phi^2 L^2 + \\cdots + \\phi^j L^j)(1 - \\phi L) = 1$(恒等作用素)\n",
    "\n",
    "となるから, $(1-\\phi L)$の逆作用素を考えることができ,\n",
    "$$\n",
    "(1 - \\phi L)^{-1} = \\lim_j (1 + \\phi L + \\phi^2 L^2 + \\cdots + \\phi^j L^j)\n",
    "$$\n",
    "と定義できる.\n",
    "\n",
    "$\\{y_t\\}$が有界でないとき, Lは全単射ではないので, 逆写像が定義できない."
   ]
  },
  {
   "cell_type": "markdown",
   "metadata": {},
   "source": []
  },
  {
   "cell_type": "markdown",
   "metadata": {},
   "source": [
    "## 1次差分方程式"
   ]
  },
  {
   "cell_type": "markdown",
   "metadata": {},
   "source": []
  },
  {
   "cell_type": "markdown",
   "metadata": {},
   "source": [
    "## 2次差分方程式"
   ]
  },
  {
   "cell_type": "markdown",
   "metadata": {},
   "source": [
    "<!-- ryaku -->\n",
    "\n",
    "\n",
    "### 命題2.1\n",
    "多項式$1-\\phi L - \\phi^2 L^2$ を\n",
    "$$\n",
    "1-\\phi L -\\phi^2 L^2  = (1-\\lambda_1 L)(1-\\lambda_2 L)\n",
    "$$\n",
    "と因数分解することは, 行列Fの固有値を求めることと同じ"
   ]
  },
  {
   "cell_type": "markdown",
   "metadata": {},
   "source": [
    "\n",
    "2次差分方程式は単位円内に相異なる固有値を持ち安定的であるとき, 有界数列に対して逆作用素が定義でき, \n",
    "$$\n",
    "(1-\\lambda_1 L)^{-1} = 1 + \\lambda_1^1 L + \\lambda_1^2 L^2 + \\cdots\\\\\n",
    "(1-\\lambda_2 L)^{-1} = 1 + \\lambda_2^1 L + \\lambda_2^2 L^2 + \\cdots\n",
    "$$\n",
    "と定義される.\n",
    "\n",
    "<!-- ryaku-->"
   ]
  },
  {
   "cell_type": "markdown",
   "metadata": {},
   "source": [
    "## p次差分方程式"
   ]
  },
  {
   "cell_type": "markdown",
   "metadata": {},
   "source": [
    "<!-- ryaku -->\n",
    "\n",
    "\n",
    "### 命題2.2\n",
    "多項式$1-\\phi L -\\phi^2 L^2 -\\cdots - \\phi_p L^p$ を\n",
    "$$\n",
    "1-\\phi L -\\phi^2 L^2 -\\cdots - \\phi_p L^p  = (1-\\lambda_1 L)(1-\\lambda_2 L)\\cdots(1 - \\lambda_p L)\n",
    "$$\n",
    "と因数分解することは, 行列Fの固有値を求めることと同じ"
   ]
  },
  {
   "cell_type": "markdown",
   "metadata": {},
   "source": [
    "## 初期条件と非有界数列"
   ]
  },
  {
   "cell_type": "markdown",
   "metadata": {},
   "source": [
    "株のモデル\n",
    "\n",
    "$r$: 投資家が株式から得る収益率\n",
    "$P_t$: 株価\n",
    "$D_t$: 配当\n",
    "とする. また, 投資家が株式から得る収益率は時間を通じて行っていであると仮定する.\n",
    "このとき\n",
    "$$\n",
    "r = (P_{t+1} - P_t)/P_t + D_t/P_t\\ \\ \\ (r > 0)\n",
    "$$\n"
   ]
  },
  {
   "cell_type": "markdown",
   "metadata": {},
   "source": [
    "\n",
    "変形して,\n",
    "$$\n",
    "P_{t+1} = (1+r)P_t - D_t\n",
    "$$\n",
    "\n",
    "これは一次差分方程式として考えられて,\n",
    "$$\n",
    "P_{t+1} = (1+r)^{t+1}P_0 - (1+r)^t D_0 - (1+r)^{t-1} D_1 - \\cdots - (1+r) D_{t-1} - D_t\n",
    "$$\n"
   ]
  },
  {
   "cell_type": "markdown",
   "metadata": {},
   "source": [
    "ここで, 任意のtに対して$D_t = D$と仮定すると, \n",
    "$$\n",
    "P_{t+1} = (1+r)^{t+1}P_0 - \\frac{1-(1+r)^{t+1}}{1-(1+r)} D\\tag{1}\n",
    "= (1+r)^{t+1}(P_0 - D/r) + D/r\n",
    "$$\n",
    "\n",
    "$P_0 \\neq D/r$のとき, $t\\rightarrow \\infty$のもとで$P_{t+1}$は発散してしまう(投機的バブル).\n",
    "\n",
    "$P_0 = D/r$を市場のファンダメンタルズ解と呼ぶ."
   ]
  },
  {
   "cell_type": "markdown",
   "metadata": {},
   "source": [
    "このような解を排除するためには$\\{P_t\\}$が有界であるという仮定が必要. このとき, 市場ファンダメンタルズ解のみが(1)の解となる.\n",
    "\n",
    "$D_t$が定数であるという仮定から$\\{D_t\\}$が有界数列であるというより弱い仮定にすると, \n",
    "繰り返し代入法より,\n",
    "$$\n",
    "P_t = \\frac{P_{t+T}}{(1+r)^T} + \\frac{D_{t+T-1}}{(1+r)^T} + \\frac{D_{t+T-2}}{(1+r)^{T-1}} + \\cdots + \\frac{D_{t+T}}{(1+r)}\n",
    "$$\n",
    "\n",
    "$\\lim_T P_{t+T}/(1+r)^T = 0$であること,また$D_t$が有界であることより,\n",
    "$$\n",
    "P_t = \\sum^\\infty_{j=0} 1/(1+r)^{j+1} D_{t+j}\n",
    "$$"
   ]
  },
  {
   "cell_type": "markdown",
   "metadata": {},
   "source": [
    "<!-- 略 -->"
   ]
  },
  {
   "cell_type": "markdown",
   "metadata": {},
   "source": [
    "$(1-\\phi L)y_t = w_t$ という形の一次差分方程式が与えられた場合, $|\\phi| < 1$のときは\n",
    "$$\n",
    "(1-\\phi L)^{-1} = 1 + \\phi L + \\phi^2 L^2 + \\cdots\n",
    "$$\n",
    "をかけて方程式を後方に解き, $|\\phi| > 1$のときは\n",
    "$$\n",
    "(1-\\phi L)^{-1} = -\\phi^{-1} L^{-1}(1 + \\phi^{-1} L^{-1} + \\phi^{-2} L^{-2} + \\cdots)\n",
    "$$\n",
    "をかけて方程式を後方に解くとよい.\n",
    "\n",
    "このように$\\phi$の値に基づいて$(1-\\phi L)^{-1}$を定めると, $(1-\\phi L)^{-1}(1-\\phi L) = 1 \\ \\ \\ (恒等作用素)$となる.\n",
    "また, $(1-\\phi L)$を有界数列に作用させると, その結果も有界数列になる."
   ]
  },
  {
   "cell_type": "markdown",
   "metadata": {},
   "source": []
  },
  {
   "cell_type": "markdown",
   "metadata": {},
   "source": []
  }
 ],
 "metadata": {
  "kernelspec": {
   "display_name": "Julia 0.4.6",
   "language": "julia",
   "name": "julia-0.4"
  },
  "language_info": {
   "file_extension": ".jl",
   "mimetype": "application/julia",
   "name": "julia",
   "version": "0.4.6"
  }
 },
 "nbformat": 4,
 "nbformat_minor": 0
}
