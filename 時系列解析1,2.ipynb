{
 "cells": [
  {
   "cell_type": "markdown",
   "metadata": {},
   "source": [
    "# 差分方程式"
   ]
  },
  {
   "cell_type": "markdown",
   "metadata": {},
   "source": [
    "## 1次差分方程式"
   ]
  },
  {
   "cell_type": "markdown",
   "metadata": {},
   "source": [
    "線形1次差分方程式\n",
    "$$\n",
    "y_t = \\phi y_{t-1} + w_t\n",
    "$$"
   ]
  },
  {
   "cell_type": "markdown",
   "metadata": {},
   "source": [
    "動学乗数dynamic multiplier($w_t$のみが微小に変化した時$y_{t+j}$に与える影響)\n",
    "$$\n",
    "\\frac{\\partial{y_{t+j}}}{\\partial{w_t}} = \\phi^j\n",
    "$$\n",
    "と書ける"
   ]
  },
  {
   "cell_type": "code",
   "execution_count": null,
   "metadata": {
    "collapsed": true
   },
   "outputs": [],
   "source": [
    "function get_ys(phi, len, y_0, ws)\n",
    "    ys = \n",
    "end"
   ]
  },
  {
   "cell_type": "markdown",
   "metadata": {},
   "source": [
    "$\\beta$を割引因子としたときの, 時点tにおける今後の実現値の流列の現在価値は,\n",
    "$$\n",
    "S = \\sum^\\infty_{j=0} \\beta^j y_{t+j}\n",
    "$$\n",
    "w_tだけ一単位増加した場合, yの現在価値への影響は$\\partial S/\\partial{w_t}$となる. \n",
    "\n",
    "これは$|\\beta\\phi| < 1$のもとで収束し, \n",
    "$$\n",
    "\\frac{\\partial S}{\\partial{w_t}} = \\sum^\\infty_{j = 0}\\beta^j \\phi^j = \\frac{1}{1-\\beta\\phi}\n",
    "$$\n",
    "となる."
   ]
  },
  {
   "cell_type": "markdown",
   "metadata": {},
   "source": [
    "時点t以降におけるwの恒久的な変化が$y_{t+j}$に与える影響は,\\\\\n",
    "$$\n",
    "\\frac{\\partial{y_{t+j}}}{\\partial{w_t}} + \\frac{\\partial{y_{t+j}}}{\\partial{w_t}} + \\cdots + \\frac{\\partial{y_{t+j}}}{\\partial{w_t}} = \\phi^j + \\phi^{j-1} + \\cdots + 1\n",
    "$$\n",
    "となり, $|\\phi| < 1$なら, $j\\rightarrow \\infty$ の極限で $\\frac{1}{1-\\phi}$ となる."
   ]
  },
  {
   "cell_type": "markdown",
   "metadata": {},
   "source": []
  },
  {
   "cell_type": "markdown",
   "metadata": {},
   "source": []
  },
  {
   "cell_type": "markdown",
   "metadata": {},
   "source": []
  },
  {
   "cell_type": "markdown",
   "metadata": {},
   "source": []
  },
  {
   "cell_type": "markdown",
   "metadata": {},
   "source": [
    "## p次差分方程式"
   ]
  },
  {
   "cell_type": "markdown",
   "metadata": {},
   "source": [
    "p次差分方程式\n",
    "$$\n",
    "y_t = \\phi_1 y_{t-1} + \\phi_2 y_{t-2} + \\cdots + \\phi_p y_{t-p} + w_t\n",
    "$$\n",
    "は, \n",
    "$$\n",
    "\\xi_t = (y_t, y_{t-1}, \\ldots, y_{t-p+1})'\n",
    "$$\n",
    "とし,\n",
    "$$\n",
    "v_t = (w_t, 0,  \\ldots, 0)'\n",
    "$$\n",
    "とし,\n",
    "$$\n",
    "F = \\begin{pmatrix}\n",
    "  \\phi_1 && \\phi_2 && \\cdots && \\phi_{p-1} && \\phi_p\\\\\n",
    "  1 && 0 && \\cdots && 0 && 0\\\\\n",
    "  0 && 1 && \\cdots && 0 && 0\\\\\n",
    "  \\vdots && \\vdots && \\ddots && \\vdots && \\vdots\\\\\n",
    "  0 && 0 && \\cdots && 1 && 0\n",
    "  \\end{pmatrix}\n",
    "$$\n",
    "とすると, \n",
    "$$\n",
    "\\xi_t = F \\xi_{t-1} + v_t\n",
    "$$\n",
    "と書ける."
   ]
  },
  {
   "cell_type": "markdown",
   "metadata": {},
   "source": []
  },
  {
   "cell_type": "markdown",
   "metadata": {},
   "source": []
  },
  {
   "cell_type": "markdown",
   "metadata": {},
   "source": []
  },
  {
   "cell_type": "markdown",
   "metadata": {},
   "source": []
  },
  {
   "cell_type": "markdown",
   "metadata": {},
   "source": [
    "# ラグ作用素"
   ]
  },
  {
   "cell_type": "markdown",
   "metadata": {},
   "source": [
    "### 導入"
   ]
  },
  {
   "cell_type": "markdown",
   "metadata": {},
   "source": []
  },
  {
   "cell_type": "markdown",
   "metadata": {},
   "source": [
    "## 1次差分方程式"
   ]
  },
  {
   "cell_type": "markdown",
   "metadata": {},
   "source": []
  },
  {
   "cell_type": "markdown",
   "metadata": {},
   "source": [
    "## 2次差分方程式"
   ]
  },
  {
   "cell_type": "markdown",
   "metadata": {},
   "source": []
  },
  {
   "cell_type": "markdown",
   "metadata": {},
   "source": [
    "## p次差分方程式"
   ]
  },
  {
   "cell_type": "markdown",
   "metadata": {},
   "source": []
  },
  {
   "cell_type": "markdown",
   "metadata": {},
   "source": [
    "## 初期条件と非有界数列"
   ]
  },
  {
   "cell_type": "markdown",
   "metadata": {},
   "source": []
  }
 ],
 "metadata": {
  "kernelspec": {
   "display_name": "Julia 0.4.6",
   "language": "julia",
   "name": "julia-0.4"
  },
  "language_info": {
   "file_extension": ".jl",
   "mimetype": "application/julia",
   "name": "julia",
   "version": "0.4.6"
  }
 },
 "nbformat": 4,
 "nbformat_minor": 0
}
